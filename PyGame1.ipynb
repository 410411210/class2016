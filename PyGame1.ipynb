{
 "cells": [
  {
   "cell_type": "code",
   "execution_count": 1,
   "metadata": {
    "collapsed": false
   },
   "outputs": [
    {
     "name": "stdout",
     "output_type": "stream",
     "text": [
      "Fetching package metadata: ......\n",
      "Solving package specifications: .........\n",
      "\n",
      "# All requested packages already installed.\n",
      "# packages in environment at D:\\Users\\tzerj_000\\Anaconda2:\n",
      "#\n",
      "pygame                    1.9.2a0                  py27_0    CogSci\n"
     ]
    },
    {
     "name": "stderr",
     "output_type": "stream",
     "text": [
      "Using Anaconda Cloud api site https://api.anaconda.org\n"
     ]
    }
   ],
   "source": [
    "!conda install -y --channel https://conda.anaconda.org/CogSci pygame"
   ]
  },
  {
   "cell_type": "code",
   "execution_count": 2,
   "metadata": {
    "collapsed": false
   },
   "outputs": [
    {
     "ename": "SystemExit",
     "evalue": "",
     "output_type": "error",
     "traceback": [
      "An exception has occurred, use %tb to see the full traceback.\n",
      "\u001b[1;31mSystemExit\u001b[0m\n"
     ]
    },
    {
     "name": "stderr",
     "output_type": "stream",
     "text": [
      "To exit: use 'exit', 'quit', or Ctrl-D.\n"
     ]
    }
   ],
   "source": [
    "import pygame, sys\n",
    "from pygame.locals import *\n",
    "from random import random\n",
    "\n",
    "pygame.init()\n",
    "DISPLAYSURF = pygame.display.set_mode((640, 480))\n",
    "fpsClock = pygame.time.Clock()\n",
    "pygame.display.set_caption('你好!')\n",
    "def update_graphics(x,y):\n",
    "    DISPLAYSURF.fill( (0,0,255))\n",
    "    pygame.draw.circle(DISPLAYSURF, (255,255,0), (x,y), 50)\n",
    "    pygame.draw.circle(DISPLAYSURF, (0,0,0), (x-20,y-15), 10)\n",
    "    pygame.draw.circle(DISPLAYSURF, (0,0,0), (x+20,y-15), 10)\n",
    "    pygame.draw.arc(DISPLAYSURF, (255,0,0), (x-25,y, 50, 30), -3.14, 0, 3)\n",
    "x,y = 300,300\n",
    "dx, dy = 2, 2\n",
    "while True: # main game loop\n",
    "    for event in pygame.event.get():\n",
    "        if event.type == QUIT:\n",
    "            pygame.quit()\n",
    "            sys.exit()\n",
    "    update_graphics(int(x), int(y))\n",
    "    pygame.display.update()\n",
    "    fpsClock.tick(60)\n",
    "    x+=dx\n",
    "    y+=dy\n",
    "    if x > 590 or x < 50:\n",
    "        dx = -dx+0.5*(random()-0.5)\n",
    "    if y > 430 or y < 50:\n",
    "        dy = -dy+0.5*(random()-0.5)\n"
   ]
  },
  {
   "cell_type": "code",
   "execution_count": null,
   "metadata": {
    "collapsed": true
   },
   "outputs": [],
   "source": []
  }
 ],
 "metadata": {
  "kernelspec": {
   "display_name": "Python 2",
   "language": "python",
   "name": "python2"
  },
  "language_info": {
   "codemirror_mode": {
    "name": "ipython",
    "version": 2
   },
   "file_extension": ".py",
   "mimetype": "text/x-python",
   "name": "python",
   "nbconvert_exporter": "python",
   "pygments_lexer": "ipython2",
   "version": "2.7.11"
  }
 },
 "nbformat": 4,
 "nbformat_minor": 0
}
